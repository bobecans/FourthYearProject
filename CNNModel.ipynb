{
 "cells": [
  {
   "cell_type": "markdown",
   "metadata": {},
   "source": [
    "# Convolution Neural Network Model."
   ]
  },
  {
   "cell_type": "markdown",
   "metadata": {},
   "source": [
    "**In this notebook we will look at the steps taken to build a cNN for the predicts of weather in any given image.**"
   ]
  },
  {
   "cell_type": "markdown",
   "metadata": {},
   "source": [
    "The first thing we need is the libraries, so let's import what we need."
   ]
  },
  {
   "cell_type": "code",
   "execution_count": 1,
   "metadata": {},
   "outputs": [
    {
     "name": "stderr",
     "output_type": "stream",
     "text": [
      "Using TensorFlow backend.\n"
     ]
    }
   ],
   "source": [
    "from keras.preprocessing.image import ImageDataGenerator, img_to_array, load_img\n",
    "from keras.models import Sequential\n",
    "from keras.layers import Dropout, Flatten, Dense\n",
    "from keras import applications\n",
    "from keras.utils.np_utils import to_categorical\n",
    "import matplotlib.pyplot as plt\n",
    "import numpy as np\n",
    "import math\n",
    "import cv2"
   ]
  },
  {
   "cell_type": "markdown",
   "metadata": {},
   "source": [
    "Next we need to set some common varables that can be used though out the model."
   ]
  },
  {
   "cell_type": "code",
   "execution_count": 2,
   "metadata": {
    "collapsed": true
   },
   "outputs": [],
   "source": [
    "# dimensions of our images.\n",
    "img_width, img_height = 224, 224"
   ]
  },
  {
   "cell_type": "code",
   "execution_count": 3,
   "metadata": {
    "collapsed": true
   },
   "outputs": [],
   "source": [
    "# get the pre-train bottle neck model\n",
    "top_model_weights_path = 'bottleneck_fc_model.h5'"
   ]
  },
  {
   "cell_type": "code",
   "execution_count": 4,
   "metadata": {
    "collapsed": true
   },
   "outputs": [],
   "source": [
    "# My training and validation sets\n",
    "train_data_dir = 'data/train'\n",
    "validation_data_dir = 'data/validation'"
   ]
  },
  {
   "cell_type": "code",
   "execution_count": 5,
   "metadata": {
    "collapsed": true
   },
   "outputs": [],
   "source": [
    "# number of epochs to train top model\n",
    "epochs = 50"
   ]
  },
  {
   "cell_type": "code",
   "execution_count": 6,
   "metadata": {
    "collapsed": true
   },
   "outputs": [],
   "source": [
    "# batch size used by flow_from_directory and predict_generator\n",
    "batch_size = 16"
   ]
  },
  {
   "cell_type": "markdown",
   "metadata": {},
   "source": [
    "Now we have the bases cover, let us start by creating a function for the VGG16 bottleneck. \n",
    "\n",
    "We want to import the pre-train dataset, that ImageNet has built for us. From that we can use that set to complelent what we have ourselfs."
   ]
  },
  {
   "cell_type": "code",
   "execution_count": 7,
   "metadata": {
    "collapsed": true
   },
   "outputs": [],
   "source": [
    "def save_bottlebeck_features():\n",
    "    # build the VGG16 network\n",
    "    model = applications.VGG16(include_top=False, weights='imagenet')\n",
    "\n",
    "    datagen = ImageDataGenerator(rescale=1. / 255)\n",
    "\n",
    "    generator = datagen.flow_from_directory(\n",
    "        train_data_dir,\n",
    "        target_size=(img_width, img_height),\n",
    "        batch_size=batch_size,\n",
    "        class_mode=None,\n",
    "        shuffle=False)\n",
    "\n",
    "    print(len(generator.filenames))\n",
    "    print(generator.class_indices)\n",
    "    print(len(generator.class_indices))\n",
    "\n",
    "    nb_train_samples = len(generator.filenames)\n",
    "    num_classes = len(generator.class_indices)\n",
    "\n",
    "    predict_size_train = int(math.ceil(nb_train_samples / batch_size))\n",
    "\n",
    "    bottleneck_features_train = model.predict_generator(\n",
    "        generator, predict_size_train)\n",
    "\n",
    "    np.save('bottleneck_features_train.npy', bottleneck_features_train)\n",
    "\n",
    "    generator = datagen.flow_from_directory(\n",
    "        validation_data_dir,\n",
    "        target_size=(img_width, img_height),\n",
    "        batch_size=batch_size,\n",
    "        class_mode=None,\n",
    "        shuffle=False)\n",
    "\n",
    "    nb_validation_samples = len(generator.filenames)\n",
    "\n",
    "    predict_size_validation = int(\n",
    "        math.ceil(nb_validation_samples / batch_size))\n",
    "\n",
    "    bottleneck_features_validation = model.predict_generator(\n",
    "        generator, predict_size_validation)\n",
    "\n",
    "    np.save('bottleneck_features_validation.npy',\n",
    "            bottleneck_features_validation)"
   ]
  },
  {
   "cell_type": "markdown",
   "metadata": {},
   "source": [
    "Next we want to train our sets, we do this by connecting to the already train bottle neck. From that we just have to use the fully-connected function of keras. This part is what makes our model unique to any order model. "
   ]
  },
  {
   "cell_type": "code",
   "execution_count": 8,
   "metadata": {
    "collapsed": true
   },
   "outputs": [],
   "source": [
    "def train_top_model():\n",
    "    datagen_top = ImageDataGenerator(rescale=1. / 255)\n",
    "    generator_top = datagen_top.flow_from_directory(\n",
    "        train_data_dir,\n",
    "        target_size=(img_width, img_height),\n",
    "        batch_size=batch_size,\n",
    "        class_mode='categorical',\n",
    "        shuffle=False)\n",
    "\n",
    "    nb_train_samples = len(generator_top.filenames)\n",
    "    num_classes = len(generator_top.class_indices)\n",
    "\n",
    "    # save the class indices to use use later in predictions\n",
    "    np.save('class_indices.npy', generator_top.class_indices)\n",
    "\n",
    "    # load the bottleneck features saved earlier\n",
    "    train_data = np.load('bottleneck_features_train.npy')\n",
    "\n",
    "    # get the class lebels for the training data, in the original order\n",
    "    train_labels = generator_top.classes\n",
    "\n",
    "    # https://github.com/fchollet/keras/issues/3467\n",
    "    # convert the training labels to categorical vectors\n",
    "    train_labels = to_categorical(train_labels, num_classes=num_classes)\n",
    "\n",
    "    generator_top = datagen_top.flow_from_directory(\n",
    "        validation_data_dir,\n",
    "        target_size=(img_width, img_height),\n",
    "        batch_size=batch_size,\n",
    "        class_mode=None,\n",
    "        shuffle=False)\n",
    "\n",
    "    nb_validation_samples = len(generator_top.filenames)\n",
    "\n",
    "    validation_data = np.load('bottleneck_features_validation.npy')\n",
    "\n",
    "    validation_labels = generator_top.classes\n",
    "    validation_labels = to_categorical(\n",
    "        validation_labels, num_classes=num_classes)\n",
    "\n",
    "    model = Sequential()\n",
    "    model.add(Flatten(input_shape=train_data.shape[1:]))\n",
    "    model.add(Dense(256, activation='relu'))\n",
    "    model.add(Dropout(0.5))\n",
    "    model.add(Dense(num_classes, activation='sigmoid'))\n",
    "\n",
    "    model.compile(optimizer='rmsprop',\n",
    "                  loss='categorical_crossentropy', metrics=['accuracy'])\n",
    "\n",
    "    history = model.fit(train_data, train_labels,\n",
    "                        epochs=epochs,\n",
    "                        batch_size=batch_size,\n",
    "                        validation_data=(validation_data, validation_labels))\n",
    "\n",
    "    model.save_weights(top_model_weights_path)\n",
    "\n",
    "    (eval_loss, eval_accuracy) = model.evaluate(\n",
    "        validation_data, validation_labels, batch_size=batch_size, verbose=1)\n",
    "\n",
    "    print(\"[INFO] accuracy: {:.2f}%\".format(eval_accuracy * 100))\n",
    "    print(\"[INFO] Loss: {}\".format(eval_loss))\n",
    "\n",
    "    plt.figure(1)\n",
    "\n",
    "    # summarize history for accuracy\n",
    "\n",
    "    plt.subplot(211)\n",
    "    plt.plot(history.history['acc'])\n",
    "    plt.plot(history.history['val_acc'])\n",
    "    plt.title('model accuracy')\n",
    "    plt.ylabel('accuracy')\n",
    "    plt.xlabel('epoch')\n",
    "    plt.legend(['train', 'test'], loc='upper left')\n",
    "\n",
    "    # summarize history for loss\n",
    "\n",
    "    plt.subplot(212)\n",
    "    plt.plot(history.history['loss'])\n",
    "    plt.plot(history.history['val_loss'])\n",
    "    plt.title('model loss')\n",
    "    plt.ylabel('loss')\n",
    "    plt.xlabel('epoch')\n",
    "    plt.legend(['train', 'test'], loc='upper left')\n",
    "    plt.show()"
   ]
  },
  {
   "cell_type": "markdown",
   "metadata": {},
   "source": [
    "The last part of this process is the predict part. Here we want to take a image and see what the system thinks is the outcome.\n",
    "\n",
    "For this we need to run though some of the process we already done before, from that we can output a result."
   ]
  },
  {
   "cell_type": "code",
   "execution_count": 9,
   "metadata": {
    "collapsed": true
   },
   "outputs": [],
   "source": [
    "def predict():\n",
    "    # load the class_indices saved in the earlier step\n",
    "    class_dictionary = np.load('class_indices.npy').item()\n",
    "\n",
    "    num_classes = len(class_dictionary)\n",
    "\n",
    "    # add the path to your test image below\n",
    "    image_path = 'C:\\\\Users\\\\robert\\\\Documents\\\\Bob College work\\\\Year 4\\\\Project\\\\Images\\\\the-spike6.jpg'\n",
    "\n",
    "    orig = cv2.imread(image_path)\n",
    "\n",
    "    print(\"[INFO] loading and preprocessing image...\")\n",
    "    image = load_img(image_path, target_size=(224, 224))\n",
    "    image = img_to_array(image)\n",
    "\n",
    "    # important! otherwise the predictions will be '0'\n",
    "    image = image / 255\n",
    "\n",
    "    image = np.expand_dims(image, axis=0)\n",
    "\n",
    "    # build the VGG16 network\n",
    "    model = applications.VGG16(include_top=False, weights='imagenet')\n",
    "\n",
    "    # get the bottleneck prediction from the pre-trained VGG16 model\n",
    "    bottleneck_prediction = model.predict(image)\n",
    "\n",
    "    # build top model\n",
    "    model = Sequential()\n",
    "    model.add(Flatten(input_shape=bottleneck_prediction.shape[1:]))\n",
    "    model.add(Dense(256, activation='relu'))\n",
    "    model.add(Dropout(0.5))\n",
    "    model.add(Dense(num_classes, activation='sigmoid'))\n",
    "\n",
    "    model.load_weights(top_model_weights_path)\n",
    "\n",
    "    # use the bottleneck prediction on the top model to get the final\n",
    "    # classification\n",
    "    class_predicted = model.predict_classes(bottleneck_prediction)\n",
    "\n",
    "    probabilities = model.predict_proba(bottleneck_prediction)\n",
    "\n",
    "    inID = class_predicted[0]\n",
    "\n",
    "    inv_map = {v: k for k, v in class_dictionary.items()}\n",
    "\n",
    "    label = inv_map[inID]\n",
    "\n",
    "    # get the prediction label\n",
    "    print(\"Image ID: {}, Label: {}\".format(inID, label))\n",
    "\n",
    "    # display the predictions with the image\n",
    "    cv2.putText(orig, \"Predicted: {}\".format(label), (10, 30),\n",
    "                cv2.FONT_HERSHEY_PLAIN, 1.5, (43, 99, 255), 2)\n",
    "\n",
    "    cv2.imshow(\"Classification\", orig)\n",
    "    cv2.waitKey(0)\n",
    "    cv2.destroyAllWindows()"
   ]
  },
  {
   "cell_type": "markdown",
   "metadata": {},
   "source": [
    "Now we run the above function and see what happens."
   ]
  },
  {
   "cell_type": "code",
   "execution_count": 10,
   "metadata": {
    "scrolled": false
   },
   "outputs": [
    {
     "name": "stdout",
     "output_type": "stream",
     "text": [
      "Found 500 images belonging to 5 classes.\n",
      "500\n",
      "{'Light Cloud': 0, 'Overcast': 1, 'Stormy': 2, 'Sunny': 3, 'Very Cloudy': 4}\n",
      "5\n",
      "Found 100 images belonging to 5 classes.\n",
      "Found 500 images belonging to 5 classes.\n",
      "Found 100 images belonging to 5 classes.\n",
      "Train on 500 samples, validate on 100 samples\n",
      "Epoch 1/50\n",
      "500/500 [==============================] - 4s - loss: 3.4293 - acc: 0.2160 - val_loss: 1.6094 - val_acc: 0.2300\n",
      "Epoch 2/50\n",
      "500/500 [==============================] - 4s - loss: 1.6797 - acc: 0.2040 - val_loss: 1.6094 - val_acc: 0.2000\n",
      "Epoch 3/50\n",
      "500/500 [==============================] - 4s - loss: 1.6093 - acc: 0.2040 - val_loss: 1.6996 - val_acc: 0.2000\n",
      "Epoch 4/50\n",
      "500/500 [==============================] - 4s - loss: 1.7525 - acc: 0.2080 - val_loss: 1.6097 - val_acc: 0.2000\n",
      "Epoch 5/50\n",
      "500/500 [==============================] - 4s - loss: 1.6554 - acc: 0.2000 - val_loss: 1.6094 - val_acc: 0.2000\n",
      "Epoch 6/50\n",
      "500/500 [==============================] - 4s - loss: 1.6740 - acc: 0.1940 - val_loss: 1.6094 - val_acc: 0.2000\n",
      "Epoch 7/50\n",
      "500/500 [==============================] - 4s - loss: 1.6881 - acc: 0.2020 - val_loss: 1.6094 - val_acc: 0.2000\n",
      "Epoch 8/50\n",
      "500/500 [==============================] - 4s - loss: 1.6563 - acc: 0.2060 - val_loss: 1.6094 - val_acc: 0.2000\n",
      "Epoch 9/50\n",
      "500/500 [==============================] - 4s - loss: 1.6466 - acc: 0.1860 - val_loss: 1.6074 - val_acc: 0.2000\n",
      "Epoch 10/50\n",
      "500/500 [==============================] - 4s - loss: 1.5977 - acc: 0.1860 - val_loss: 1.5981 - val_acc: 0.2000\n",
      "Epoch 11/50\n",
      "500/500 [==============================] - 4s - loss: 1.7002 - acc: 0.2160 - val_loss: 1.6058 - val_acc: 0.2000\n",
      "Epoch 12/50\n",
      "500/500 [==============================] - 4s - loss: 1.6789 - acc: 0.2100 - val_loss: 1.6131 - val_acc: 0.2000\n",
      "Epoch 13/50\n",
      "500/500 [==============================] - 4s - loss: 1.7020 - acc: 0.2220 - val_loss: 1.6311 - val_acc: 0.2000\n",
      "Epoch 14/50\n",
      "500/500 [==============================] - 4s - loss: 1.6325 - acc: 0.2140 - val_loss: 1.6414 - val_acc: 0.2000\n",
      "Epoch 15/50\n",
      "500/500 [==============================] - 4s - loss: 1.6284 - acc: 0.1980 - val_loss: 1.6068 - val_acc: 0.2000\n",
      "Epoch 16/50\n",
      "500/500 [==============================] - 4s - loss: 1.6388 - acc: 0.2140 - val_loss: 1.5739 - val_acc: 0.2000\n",
      "Epoch 17/50\n",
      "500/500 [==============================] - 4s - loss: 1.6406 - acc: 0.2120 - val_loss: 1.6691 - val_acc: 0.2000\n",
      "Epoch 18/50\n",
      "500/500 [==============================] - 4s - loss: 1.6371 - acc: 0.2120 - val_loss: 1.6483 - val_acc: 0.2000\n",
      "Epoch 19/50\n",
      "500/500 [==============================] - 4s - loss: 1.6165 - acc: 0.2220 - val_loss: 1.6491 - val_acc: 0.2000\n",
      "Epoch 20/50\n",
      "500/500 [==============================] - 4s - loss: 1.6555 - acc: 0.2260 - val_loss: 1.6181 - val_acc: 0.2300\n",
      "Epoch 21/50\n",
      "500/500 [==============================] - 4s - loss: 1.6744 - acc: 0.2420 - val_loss: 1.6989 - val_acc: 0.2000\n",
      "Epoch 22/50\n",
      "500/500 [==============================] - 4s - loss: 1.5750 - acc: 0.2220 - val_loss: 1.7591 - val_acc: 0.2300\n",
      "Epoch 23/50\n",
      "500/500 [==============================] - 4s - loss: 1.6428 - acc: 0.2180 - val_loss: 1.6268 - val_acc: 0.2000\n",
      "Epoch 24/50\n",
      "500/500 [==============================] - 4s - loss: 1.6041 - acc: 0.2440 - val_loss: 1.7697 - val_acc: 0.2700\n",
      "Epoch 25/50\n",
      "500/500 [==============================] - 4s - loss: 1.5759 - acc: 0.2340 - val_loss: 1.6817 - val_acc: 0.2000\n",
      "Epoch 26/50\n",
      "500/500 [==============================] - 4s - loss: 1.5764 - acc: 0.2300 - val_loss: 1.8596 - val_acc: 0.2300\n",
      "Epoch 27/50\n",
      "500/500 [==============================] - 4s - loss: 1.5638 - acc: 0.2580 - val_loss: 1.7629 - val_acc: 0.2100\n",
      "Epoch 28/50\n",
      "500/500 [==============================] - 4s - loss: 1.5077 - acc: 0.2360 - val_loss: 2.0557 - val_acc: 0.2000\n",
      "Epoch 29/50\n",
      "500/500 [==============================] - 4s - loss: 1.5743 - acc: 0.2960 - val_loss: 1.9588 - val_acc: 0.2500\n",
      "Epoch 30/50\n",
      "500/500 [==============================] - 4s - loss: 1.4745 - acc: 0.2780 - val_loss: 2.1926 - val_acc: 0.2500\n",
      "Epoch 31/50\n",
      "500/500 [==============================] - 4s - loss: 1.4808 - acc: 0.3520 - val_loss: 1.9597 - val_acc: 0.2200\n",
      "Epoch 32/50\n",
      "500/500 [==============================] - 4s - loss: 1.4492 - acc: 0.3300 - val_loss: 2.1820 - val_acc: 0.3000\n",
      "Epoch 33/50\n",
      "500/500 [==============================] - 4s - loss: 1.4240 - acc: 0.4040 - val_loss: 2.0822 - val_acc: 0.2800\n",
      "Epoch 34/50\n",
      "500/500 [==============================] - 4s - loss: 1.3870 - acc: 0.3780 - val_loss: 2.4200 - val_acc: 0.2900\n",
      "Epoch 35/50\n",
      "500/500 [==============================] - 4s - loss: 1.3298 - acc: 0.4040 - val_loss: 2.3689 - val_acc: 0.3000\n",
      "Epoch 36/50\n",
      "500/500 [==============================] - 4s - loss: 1.2492 - acc: 0.4520 - val_loss: 2.3644 - val_acc: 0.3500\n",
      "Epoch 37/50\n",
      "500/500 [==============================] - 4s - loss: 1.1554 - acc: 0.4840 - val_loss: 2.0369 - val_acc: 0.3100\n",
      "Epoch 38/50\n",
      "500/500 [==============================] - 4s - loss: 1.1842 - acc: 0.4860 - val_loss: 2.0625 - val_acc: 0.2900\n",
      "Epoch 39/50\n",
      "500/500 [==============================] - 4s - loss: 1.2143 - acc: 0.4820 - val_loss: 2.2887 - val_acc: 0.3500\n",
      "Epoch 40/50\n",
      "500/500 [==============================] - 4s - loss: 1.1240 - acc: 0.5200 - val_loss: 2.1638 - val_acc: 0.2800\n",
      "Epoch 41/50\n",
      "500/500 [==============================] - 4s - loss: 1.0473 - acc: 0.5420 - val_loss: 2.1019 - val_acc: 0.3800\n",
      "Epoch 42/50\n",
      "500/500 [==============================] - 4s - loss: 1.0641 - acc: 0.5560 - val_loss: 2.0598 - val_acc: 0.2600\n",
      "Epoch 43/50\n",
      "500/500 [==============================] - 4s - loss: 1.0021 - acc: 0.5580 - val_loss: 2.0773 - val_acc: 0.3200\n",
      "Epoch 44/50\n",
      "500/500 [==============================] - 4s - loss: 0.8683 - acc: 0.6420 - val_loss: 2.3345 - val_acc: 0.3400\n",
      "Epoch 45/50\n",
      "500/500 [==============================] - 4s - loss: 0.8493 - acc: 0.6320 - val_loss: 2.4426 - val_acc: 0.2800\n",
      "Epoch 46/50\n",
      "500/500 [==============================] - 4s - loss: 0.8314 - acc: 0.6660 - val_loss: 2.2535 - val_acc: 0.3600\n",
      "Epoch 47/50\n",
      "500/500 [==============================] - 4s - loss: 0.7582 - acc: 0.6920 - val_loss: 2.6063 - val_acc: 0.3100\n",
      "Epoch 48/50\n",
      "500/500 [==============================] - 4s - loss: 0.7586 - acc: 0.6900 - val_loss: 2.4507 - val_acc: 0.3400\n",
      "Epoch 49/50\n",
      "500/500 [==============================] - ETA: 0s - loss: 0.7673 - acc: 0.669 - 4s - loss: 0.7635 - acc: 0.6720 - val_loss: 2.3828 - val_acc: 0.4000\n",
      "Epoch 50/50\n",
      "500/500 [==============================] - 4s - loss: 0.7312 - acc: 0.7180 - val_loss: 2.6129 - val_acc: 0.3400\n",
      " 64/100 [==================>...........] - ETA: 0s[INFO] accuracy: 34.00%\n",
      "[INFO] Loss: 2.612914662361145\n"
     ]
    },
    {
     "data": {
      "image/png": "[encoded data removed]",
      "text/plain": [
       "<matplotlib.figure.Figure at 0x168a011a978>"
      ]
     },
     "metadata": {},
     "output_type": "display_data"
    },
    {
     "name": "stdout",
     "output_type": "stream",
     "text": [
      "[INFO] loading and preprocessing image...\n",
      "1/1 [==============================] - 0s\n",
      "1/1 [==============================] - 0s\n",
      "Image ID: 0, Label: Light Cloud\n"
     ]
    }
   ],
   "source": [
    "save_bottlebeck_features()\n",
    "train_top_model()\n",
    "predict()\n",
    "\n",
    "cv2.destroyAllWindows()"
   ]
  },
  {
   "cell_type": "code",
   "execution_count": null,
   "metadata": {
    "collapsed": true
   },
   "outputs": [],
   "source": []
  }
 ],
 "metadata": {
  "kernelspec": {
   "display_name": "Python 3",
   "language": "python",
   "name": "python3"
  },
  "language_info": {
   "codemirror_mode": {
    "name": "ipython",
    "version": 3
   },
   "file_extension": ".py",
   "mimetype": "text/x-python",
   "name": "python",
   "nbconvert_exporter": "python",
   "pygments_lexer": "ipython3",
   "version": "3.6.2"
  }
 },
 "nbformat": 4,
 "nbformat_minor": 2
}
